{
  "cells": [
    {
      "cell_type": "code",
      "execution_count": 223,
      "metadata": {
        "id": "on6LKx7N8rHA"
      },
      "outputs": [],
      "source": [
        "import pandas as pd\n",
        "import numpy as np\n",
        "import warnings\n",
        "import matplotlib.pyplot as plt\n",
        "import plotly.express as px\n",
        "import seaborn as sns\n",
        "from sklearn.metrics import f1_score, roc_auc_score, roc_curve, confusion_matrix\n",
        "%matplotlib inline\n",
        "from sklearn.model_selection import train_test_split\n",
        "from sklearn.impute import SimpleImputer\n",
        "from sklearn.compose import ColumnTransformer\n",
        "from sklearn.preprocessing import MinMaxScaler, OneHotEncoder, OrdinalEncoder, StandardScaler\n",
        "from sklearn.pipeline import Pipeline\n",
        "from sklearn.model_selection import GridSearchCV, RandomizedSearchCV\n",
        "from sklearn.linear_model import LogisticRegression\n",
        "from sklearn.neighbors import KNeighborsClassifier\n",
        "from sklearn.tree import DecisionTreeClassifier\n",
        "from xgboost import XGBClassifier\n",
        "from hyperopt import fmin, tpe, hp, STATUS_OK, Trials\n",
        "import scipy.stats as stats\n",
        "import shap"
      ]
    },
    {
      "cell_type": "code",
      "execution_count": 2,
      "metadata": {
        "id": "EEisAnx88l1p"
      },
      "outputs": [],
      "source": [
        "sns.set_style('darkgrid')\n",
        "warnings.filterwarnings('ignore')"
      ]
    },
    {
      "cell_type": "code",
      "execution_count": 3,
      "metadata": {
        "id": "11VBmiOM8wF2"
      },
      "outputs": [],
      "source": [
        "df = pd.read_csv('bank-additional-full.csv',sep=';')"
      ]
    },
    {
      "cell_type": "code",
      "execution_count": null,
      "metadata": {
        "colab": {
          "base_uri": "https://localhost:8080/",
          "height": 253
        },
        "id": "YjR1lEs-8wCc",
        "outputId": "5b9ff56a-be56-43ca-f75d-7b06d123dda3"
      },
      "outputs": [],
      "source": [
        "df.head()"
      ]
    },
    {
      "cell_type": "code",
      "execution_count": null,
      "metadata": {
        "colab": {
          "base_uri": "https://localhost:8080/"
        },
        "id": "KCOt1K93aUgm",
        "outputId": "a128c28a-63c1-45f0-a530-37e257d5ed29"
      },
      "outputs": [],
      "source": [
        "df.shape"
      ]
    },
    {
      "cell_type": "code",
      "execution_count": null,
      "metadata": {
        "colab": {
          "base_uri": "https://localhost:8080/",
          "height": 734
        },
        "collapsed": true,
        "id": "FZdoGSj00Cvc",
        "outputId": "d6deb4da-ddf8-4cd6-b4d4-c5d607ce3146"
      },
      "outputs": [],
      "source": [
        "df.isna().sum().sort_values(ascending=False)"
      ]
    },
    {
      "cell_type": "code",
      "execution_count": 7,
      "metadata": {
        "id": "hPpUS8Xe0PdT"
      },
      "outputs": [],
      "source": [
        "categorical_cols = [c for c in df.columns if c!='y' and df[c].dtype == 'object']"
      ]
    },
    {
      "cell_type": "code",
      "execution_count": null,
      "metadata": {
        "colab": {
          "base_uri": "https://localhost:8080/"
        },
        "id": "Ppm3P6Dz0lWj",
        "outputId": "ea9b58ef-9482-491b-b575-68dadc333e5d"
      },
      "outputs": [],
      "source": [
        "for c in categorical_cols:\n",
        "  print(f\"column: \\n\", df[c].value_counts(),\"\\n\")"
      ]
    },
    {
      "cell_type": "code",
      "execution_count": null,
      "metadata": {
        "colab": {
          "base_uri": "https://localhost:8080/",
          "height": 176
        },
        "id": "D_jTEdDm1aMF",
        "outputId": "f4bdf6e6-00b4-40c4-8938-8935959abc19"
      },
      "outputs": [],
      "source": [
        "df['y'].value_counts() #значно переважає один клас"
      ]
    },
    {
      "cell_type": "markdown",
      "metadata": {
        "id": "11DEpQ2rGkTf"
      },
      "source": [
        "# EDA"
      ]
    },
    {
      "cell_type": "markdown",
      "metadata": {
        "id": "MSFhk2BUHBSK"
      },
      "source": [
        "### Опис числових змінних"
      ]
    },
    {
      "cell_type": "code",
      "execution_count": 10,
      "metadata": {
        "id": "ib1lxMN-2SbX"
      },
      "outputs": [],
      "source": [
        "numeric_cols = [c for c in df.columns if df[c].dtype != 'object' and c!='duration']"
      ]
    },
    {
      "cell_type": "code",
      "execution_count": null,
      "metadata": {
        "colab": {
          "base_uri": "https://localhost:8080/"
        },
        "id": "Hl7qNhBXHdF2",
        "outputId": "3054afcc-edfd-425b-ed15-267b5b090e9a"
      },
      "outputs": [],
      "source": [
        "numeric_cols"
      ]
    },
    {
      "cell_type": "code",
      "execution_count": null,
      "metadata": {
        "colab": {
          "base_uri": "https://localhost:8080/",
          "height": 190
        },
        "id": "2aTU4fLz5_vF",
        "outputId": "9b7d44c1-334e-426f-80d7-01fe6b06524a"
      },
      "outputs": [],
      "source": [
        "for c in numeric_cols:\n",
        "  sns.kdeplot(data=df,x=c,hue='y',multiple=\"stack\")\n",
        "  plt.title(f'KDE plot for {c}')\n",
        "  plt.tight_layout()\n",
        "  plt.show()"
      ]
    },
    {
      "cell_type": "markdown",
      "metadata": {
        "id": "GoHwI4c6HzJ1"
      },
      "source": [
        "\n",
        "\n",
        "*   Змінна `cons.conf.idx`,`campaign`,`previous` має викиди,\n",
        "*   Змінна `pdays` має дуже цікавий розподіл, оскільки число 999 є сталим при ситуації \"не контактували\" - є сенс перетворити на бінарну змінну був контакт чи ні\n",
        "* Також змінні `campaign` і `previous` показують, що чимбільше контактів з людиною тим менша ймовірність на підписання депозиту\n",
        "\n"
      ]
    },
    {
      "cell_type": "markdown",
      "metadata": {
        "id": "o9mclJacSXTA"
      },
      "source": [
        "змінна `duration` дає по суті вже відповідь на запитання, тому вона трохи невдала для навчання моделей"
      ]
    },
    {
      "cell_type": "markdown",
      "metadata": {
        "id": "RgafuD0nHLOK"
      },
      "source": [
        "### Опис категоріальних змінних"
      ]
    },
    {
      "cell_type": "code",
      "execution_count": null,
      "metadata": {
        "colab": {
          "base_uri": "https://localhost:8080/"
        },
        "id": "QdPzOJcCSAMX",
        "outputId": "8276f8f7-dc2b-4cb4-f054-3f328ffdec56"
      },
      "outputs": [],
      "source": [
        "categorical_cols"
      ]
    },
    {
      "cell_type": "code",
      "execution_count": null,
      "metadata": {
        "colab": {
          "base_uri": "https://localhost:8080/",
          "height": 207
        },
        "id": "6X1UCjtkSZyq",
        "outputId": "4315fcbe-7d78-4866-9e29-d833384d5c9c"
      },
      "outputs": [],
      "source": [
        "for c in categorical_cols:\n",
        "  sns.countplot(data=df,x=c,hue='y')\n",
        "  plt.xticks(rotation=45)\n",
        "  plt.title(f'Countplot for {c}')\n",
        "  plt.tight_layout()\n",
        "  plt.show()"
      ]
    },
    {
      "cell_type": "markdown",
      "metadata": {
        "id": "lU_ZFdIR3GfI"
      },
      "source": [
        "- видно, що переважають одружені клієнти(ті що оформили депозит, і ті що ні)\n"
      ]
    },
    {
      "cell_type": "markdown",
      "metadata": {
        "id": "drBijY1K4xmm"
      },
      "source": [
        "\n",
        "\n",
        "*   найбільше клієнтів з `university.degree`\n",
        "*   невідомої категорії трохи так є, тому лишаємо як є - окремою категорією\n",
        "\n"
      ]
    },
    {
      "cell_type": "markdown",
      "metadata": {
        "id": "Zw1iS9elbExY"
      },
      "source": [
        "\n",
        "\n",
        "*   якщо є прострочений кредит, то не беруть депозит\n",
        "\n",
        "\n",
        "\n",
        "\n"
      ]
    },
    {
      "cell_type": "markdown",
      "metadata": {
        "id": "Te-yRpI1_F71"
      },
      "source": [
        "* можна помітити, що дні тижня коли проходила кампанія розподілена рівномірно\n",
        "* найбільш активний місяць був травень\n"
      ]
    },
    {
      "cell_type": "markdown",
      "metadata": {
        "id": "SWfDfrSeEJGD"
      },
      "source": [
        "### Гіпотези\n",
        "\n",
        "\n",
        "*   як було вказано в умові `duration` впливає на цільову змінну, що логічно бо якщо клієнт зацікавлений в депозиті буде більше питати\n",
        "*   також на цільову змінну \"негативно\" вливає `nr.employed`, чим краща екноміка, тим менше людей хоче відкривтаи депозити-кредити\n",
        "*   також якщо з клієнтом був попередній успішний досвід попередньої кампанії, він більш ймовірно і цього разу \"включиться\"\n",
        "\n",
        "\n"
      ]
    },
    {
      "cell_type": "markdown",
      "metadata": {
        "id": "V5D2viRLRM8V"
      },
      "source": [
        "# Препроцесінг\n"
      ]
    },
    {
      "cell_type": "markdown",
      "metadata": {
        "id": "M8ctu924cCBd"
      },
      "source": [
        "### Перетворення цільової колнки у відповідні значення"
      ]
    },
    {
      "cell_type": "code",
      "execution_count": 15,
      "metadata": {
        "id": "ZHVoy-XscFP9"
      },
      "outputs": [],
      "source": [
        "df['target'] = (df[\"y\"] == \"yes\").astype(int)"
      ]
    },
    {
      "cell_type": "code",
      "execution_count": 16,
      "metadata": {
        "id": "1yxQk_QmZGcL"
      },
      "outputs": [],
      "source": [
        "df = df.drop('duration',axis=1)"
      ]
    },
    {
      "cell_type": "markdown",
      "metadata": {
        "id": "B7zDLyHUZp9q"
      },
      "source": [
        "*викидаю змінну (пояснення було вище)*"
      ]
    },
    {
      "cell_type": "markdown",
      "metadata": {
        "id": "cpOJ6cGybFKt"
      },
      "source": [
        "## кодування колонок"
      ]
    },
    {
      "cell_type": "markdown",
      "metadata": {
        "id": "2pmXYaYkYcO8"
      },
      "source": [
        "#### `pdays`"
      ]
    },
    {
      "cell_type": "code",
      "execution_count": 17,
      "metadata": {
        "id": "_1xOL8-qYfcr"
      },
      "outputs": [],
      "source": [
        "df['previous_contact'] = (df[\"pdays\"] != 999).astype(int)"
      ]
    },
    {
      "cell_type": "code",
      "execution_count": 18,
      "metadata": {
        "id": "ETer94BIYw_f"
      },
      "outputs": [],
      "source": [
        "df['pdays'].replace({999:np.nan},inplace=True)"
      ]
    },
    {
      "cell_type": "markdown",
      "metadata": {
        "id": "jdOLe_HAbJGf"
      },
      "source": [
        "#### `age`"
      ]
    },
    {
      "cell_type": "code",
      "execution_count": null,
      "metadata": {
        "colab": {
          "base_uri": "https://localhost:8080/",
          "height": 105
        },
        "id": "FNiyYxAyb-a6",
        "outputId": "b1f2ebe3-fd56-4993-c9aa-0ecd1def376b"
      },
      "outputs": [],
      "source": [
        "sns.histplot(data=df,x='age',bins=[0,30,40,50,60,100])"
      ]
    },
    {
      "cell_type": "code",
      "execution_count": 20,
      "metadata": {
        "id": "e2XOCBumbNYX"
      },
      "outputs": [],
      "source": [
        "df['age_bin'] = pd.cut(df['age'],bins=[0,20,30,40,50,60,100], labels=['20-','21-30','31-40','41-50','51-60','60+'])"
      ]
    },
    {
      "cell_type": "code",
      "execution_count": null,
      "metadata": {
        "colab": {
          "base_uri": "https://localhost:8080/",
          "height": 337
        },
        "id": "b6SDbEc3gBUW",
        "outputId": "87042cfe-1c2d-412d-a0ff-01457b4213b7"
      },
      "outputs": [],
      "source": [
        "df.age_bin.value_counts()"
      ]
    },
    {
      "cell_type": "markdown",
      "metadata": {
        "id": "JR1MG1LuggQg"
      },
      "source": [
        "### Фільтруємо викиди"
      ]
    },
    {
      "cell_type": "code",
      "execution_count": 22,
      "metadata": {
        "id": "_nsHV018iN7I"
      },
      "outputs": [],
      "source": [
        "def outlier_range(dataset,column):\n",
        "    Q1 = dataset[column].quantile(0.25)\n",
        "    Q3 = dataset[column].quantile(0.75)\n",
        "    IQR = Q3 - Q1\n",
        "    Min_value = (Q1 - 1.5 * IQR)\n",
        "    Max_value = (Q3 + 1.5 * IQR)\n",
        "    return Min_value,Max_value"
      ]
    },
    {
      "cell_type": "code",
      "execution_count": null,
      "metadata": {
        "colab": {
          "base_uri": "https://localhost:8080/"
        },
        "id": "nEB7CKGvjW3V",
        "outputId": "74a7adb7-33ad-474e-8e8a-9b946786cd20"
      },
      "outputs": [],
      "source": [
        "for c in ['campaign','previous','cons.conf.idx']:\n",
        "  print(outlier_range(df,c))\n",
        "  low,up = outlier_range(df,c)\n",
        "  df[c].clip(lower=low,upper=up,inplace=True)"
      ]
    },
    {
      "cell_type": "markdown",
      "metadata": {
        "id": "BPAi8sDZI7Vw"
      },
      "source": [
        "## split data"
      ]
    },
    {
      "cell_type": "code",
      "execution_count": 24,
      "metadata": {
        "id": "-0mR_oiurC4U"
      },
      "outputs": [],
      "source": [
        "features_col = [c for c in df.columns if c!='y' and c!='target']"
      ]
    },
    {
      "cell_type": "code",
      "execution_count": 25,
      "metadata": {
        "id": "_8TEi5uqjA1X"
      },
      "outputs": [],
      "source": [
        "numeric_cols = [c for c in features_col if df[c].dtype != 'object'] #перезаписую колонки бо додались нові\n",
        "categorical_cols = [c for c in features_col if df[c].dtype == 'object']"
      ]
    },
    {
      "cell_type": "code",
      "execution_count": null,
      "metadata": {
        "colab": {
          "base_uri": "https://localhost:8080/"
        },
        "id": "wmU3sUpnsMSI",
        "outputId": "03aa4081-2b51-4c0e-95c2-a5ceb5a019e8"
      },
      "outputs": [],
      "source": [
        "df.age_bin.dtype"
      ]
    },
    {
      "cell_type": "code",
      "execution_count": null,
      "metadata": {
        "colab": {
          "base_uri": "https://localhost:8080/"
        },
        "id": "b93LCeW8jG7Y",
        "outputId": "e9378021-3378-4a79-e687-aa1e69818124"
      },
      "outputs": [],
      "source": [
        "numeric_cols, categorical_cols"
      ]
    },
    {
      "cell_type": "code",
      "execution_count": 28,
      "metadata": {
        "id": "JSL3qBpwsieP"
      },
      "outputs": [],
      "source": [
        "numeric_cols.pop()\n",
        "categorical_cols.append('age_bin')"
      ]
    },
    {
      "cell_type": "code",
      "execution_count": 29,
      "metadata": {
        "id": "6seyrhOlJrc7"
      },
      "outputs": [],
      "source": [
        "X = df.drop(['target','y'],axis=1)\n",
        "Y = df['target']"
      ]
    },
    {
      "cell_type": "code",
      "execution_count": null,
      "metadata": {
        "colab": {
          "base_uri": "https://localhost:8080/",
          "height": 253
        },
        "id": "S8ZOtdO66Pvl",
        "outputId": "c0b5e5cb-d663-4697-ea65-700f270591fe"
      },
      "outputs": [],
      "source": [
        "X.head()"
      ]
    },
    {
      "cell_type": "code",
      "execution_count": 31,
      "metadata": {
        "id": "wpTk3hTRJF_P"
      },
      "outputs": [],
      "source": [
        "X_train, X_temp, y_train, y_temp = train_test_split(X, Y, test_size=0.3, random_state=42, stratify=Y)\n",
        "X_val, X_test, y_val, y_test = train_test_split(X_temp, y_temp, test_size=0.5, random_state=42, stratify=y_temp)"
      ]
    },
    {
      "cell_type": "code",
      "execution_count": null,
      "metadata": {
        "colab": {
          "base_uri": "https://localhost:8080/"
        },
        "id": "KCZAejFxnjif",
        "outputId": "d85d3897-871f-45ba-b95a-b9fecf5fa784"
      },
      "outputs": [],
      "source": [
        "X_train.shape, X_val.shape, X_test.shape"
      ]
    },
    {
      "cell_type": "markdown",
      "metadata": {
        "id": "TgfEfsbSGgXy"
      },
      "source": [
        "## pipeline"
      ]
    },
    {
      "cell_type": "code",
      "execution_count": 33,
      "metadata": {
        "id": "694HSSEHGldS"
      },
      "outputs": [],
      "source": [
        "numeric_transformer = Pipeline(steps=[\n",
        "    ('imputer', SimpleImputer(strategy='median')),\n",
        "    ('scaler', StandardScaler())\n",
        "])\n",
        "categorical_transformer = Pipeline(steps=[\n",
        "    ('imputer', SimpleImputer(strategy='most_frequent')),\n",
        "    ('onehot', OneHotEncoder(handle_unknown='ignore',sparse_output=True))\n",
        "])\n",
        "preprocessor = ColumnTransformer(\n",
        "    transformers=[\n",
        "    ('num', numeric_transformer, numeric_cols),\n",
        "    ('cat', categorical_transformer, categorical_cols)\n",
        "])"
      ]
    },
    {
      "cell_type": "markdown",
      "metadata": {
        "id": "MZy7hbdbRHiA"
      },
      "source": [
        "# Вибір метрики"
      ]
    },
    {
      "cell_type": "markdown",
      "metadata": {
        "id": "XLx0qAzbSzG-"
      },
      "source": [
        "Для бінарної класифікації є багато варіантів метрик для оцінки якості моделей:\n",
        "\n",
        "1. Accuracy - відпадає одразу, бо в нас дуже сильно переважає один клас\n",
        "2. Recall - якщо потрібно не втрати потенційних клієнтів\n",
        "3. Precision - якщо потрібно не втрачати час на тих хто і так відмовиться\n",
        "4. F1-score - оскільки це гармонійне середнє між попередніми двома, покаже баланс між цими твердженнями\n",
        "5. ROC-AUC - дасть змогу загально оцінити якість роботи моделі , як добре розділяє наш таргет\n",
        "\n",
        "\n",
        "Буду використовувати останню для оцінки"
      ]
    },
    {
      "cell_type": "code",
      "execution_count": 132,
      "metadata": {
        "id": "sxy9twWfVGX1"
      },
      "outputs": [],
      "source": [
        "def evaluate_model(model, X,y, model_name):\n",
        "    '''\n",
        "    calculates ROC-AUC, and plots the ROC curve.\n",
        "    '''\n",
        "    y_proba = model.predict_proba(X)[:, 1] if hasattr(model, \"predict_proba\") else None\n",
        "\n",
        "    roc_auc = roc_auc_score(y, y_proba)\n",
        "\n",
        "    print(f\"{model_name}\")\n",
        "    print(f\"ROC-AUC:  {roc_auc:.4f}\")\n",
        "\n",
        "    # ROC-curve\n",
        "    fpr, tpr, _ = roc_curve(y, y_proba)\n",
        "    plt.figure(figsize=(6,5))\n",
        "    plt.plot(fpr, tpr, label=f\"{model_name} (AUC = {roc_auc:.3f})\")\n",
        "    plt.plot([0,1], [0,1], \"k--\")\n",
        "    plt.xlabel(\"False Positive Rate\")\n",
        "    plt.ylabel(\"True Positive Rate\")\n",
        "    plt.title(\"ROC-curve\")\n",
        "    plt.legend()\n",
        "    plt.show()\n",
        "\n",
        "    return round(roc_auc,4)\n"
      ]
    },
    {
      "cell_type": "code",
      "execution_count": 133,
      "metadata": {
        "id": "k_ev1IZTPQfj"
      },
      "outputs": [],
      "source": [
        "results_compare = []"
      ]
    },
    {
      "cell_type": "markdown",
      "metadata": {
        "id": "EjUCivvYIy2y"
      },
      "source": [
        "# Logistic Regression"
      ]
    },
    {
      "cell_type": "code",
      "execution_count": 35,
      "metadata": {
        "id": "8UOnS4T88R5T"
      },
      "outputs": [],
      "source": [
        "model_log= Pipeline(steps=[\n",
        "    ('preprocessor', preprocessor),\n",
        "    ('classifier', LogisticRegression(max_iter=1000,\n",
        "                                      class_weight='balanced',\n",
        "                                      n_jobs=-1,\n",
        "                                      solver='saga'))\n",
        "])"
      ]
    },
    {
      "cell_type": "code",
      "execution_count": null,
      "metadata": {
        "colab": {
          "base_uri": "https://localhost:8080/",
          "height": 325
        },
        "id": "EBN9TBtlqnKj",
        "outputId": "df226c8b-f320-401f-8789-b5ec8b645699"
      },
      "outputs": [],
      "source": [
        "model_log.fit(X_train,y_train)"
      ]
    },
    {
      "cell_type": "code",
      "execution_count": null,
      "metadata": {
        "colab": {
          "base_uri": "https://localhost:8080/",
          "height": 1000
        },
        "id": "9Bl25TrVCbL2",
        "outputId": "379d4330-edfa-45fc-e9a9-d2d1dd9e2d42"
      },
      "outputs": [],
      "source": [
        "results_compare.append({'Model':\"Logistic Regression\",\n",
        "                        'Hyperparams':[\n",
        "                            'max_iter:1000',\n",
        "                            'class_weight:balanced',\n",
        "                            'n_jobs:-1',\n",
        "                            'solver:saga'],\n",
        "                        'AUR-ROC curve Train': evaluate_model(model_log,X_train,y_train,'Training (Logistic Regression)'),\n",
        "                        'AUR-ROC curve Validate':evaluate_model(model_log,X_val,y_val,'Validating (Logistic Regression)')})"
      ]
    },
    {
      "cell_type": "markdown",
      "metadata": {
        "id": "RA4XR4awI1jb"
      },
      "source": [
        "# KNN"
      ]
    },
    {
      "cell_type": "code",
      "execution_count": 38,
      "metadata": {
        "id": "xSfmqQBVFqqU"
      },
      "outputs": [],
      "source": [
        "model_knn= Pipeline(steps=[\n",
        "    ('preprocessor', preprocessor),\n",
        "    ('knn', KNeighborsClassifier(n_neighbors=25))\n",
        "])"
      ]
    },
    {
      "cell_type": "code",
      "execution_count": 39,
      "metadata": {
        "id": "esstKx4Tu38J"
      },
      "outputs": [],
      "source": [
        "?KNeighborsClassifier"
      ]
    },
    {
      "cell_type": "code",
      "execution_count": null,
      "metadata": {
        "colab": {
          "base_uri": "https://localhost:8080/",
          "height": 286
        },
        "id": "wgW03X9LGQHJ",
        "outputId": "7f225108-dc74-4948-acb8-6282536ecf3b"
      },
      "outputs": [],
      "source": [
        "model_knn.fit(X_train, y_train)"
      ]
    },
    {
      "cell_type": "code",
      "execution_count": null,
      "metadata": {
        "colab": {
          "base_uri": "https://localhost:8080/",
          "height": 1000
        },
        "id": "vRv-BBUhLlhd",
        "outputId": "e28c78e6-9e1d-491a-fcb8-9c1be698389d"
      },
      "outputs": [],
      "source": [
        "results_compare.append({'Model':\"KNN\",\n",
        "                        'Hyperparams':[\n",
        "                            'n_neighbors=25'],\n",
        "                        'AUR-ROC curve Train': evaluate_model(model_knn,X_train,y_train,'Training (KNN)'),\n",
        "                        'AUR-ROC curve Validate':evaluate_model(model_knn,X_val,y_val,'Validating (KNN)')})"
      ]
    },
    {
      "cell_type": "markdown",
      "metadata": {
        "id": "UiB7vtabI3OM"
      },
      "source": [
        "# Decision Tree"
      ]
    },
    {
      "cell_type": "code",
      "execution_count": 97,
      "metadata": {
        "id": "GkAOCEXbNlAD"
      },
      "outputs": [],
      "source": [
        "model_dt= Pipeline(steps=[\n",
        "    ('preprocessor', preprocessor),\n",
        "    ('tree', DecisionTreeClassifier(max_depth=7,max_leaf_nodes=20,random_state=42))\n",
        "])"
      ]
    },
    {
      "cell_type": "code",
      "execution_count": null,
      "metadata": {
        "colab": {
          "base_uri": "https://localhost:8080/",
          "height": 286
        },
        "id": "CciDoM4SJFFN",
        "outputId": "3b793c7e-06ec-43d9-bd92-cba131fb6a55"
      },
      "outputs": [],
      "source": [
        "model_dt.fit(X_train,y_train)"
      ]
    },
    {
      "cell_type": "code",
      "execution_count": null,
      "metadata": {
        "colab": {
          "base_uri": "https://localhost:8080/",
          "height": 1000
        },
        "id": "_vtE2NP0OvMd",
        "outputId": "aaa7ea90-7f1d-418c-b8fb-788dba790211"
      },
      "outputs": [],
      "source": [
        "results_compare.append({'Model':\"Decision Tree\",\n",
        "                        'Hyperparams':[\n",
        "                            'max_depth=7',\n",
        "                            'max_leaf_nodes=20',\n",
        "                            'random_state=42'],\n",
        "                        'AUR-ROC curve Train': evaluate_model(model_dt,X_train,y_train,'Training (Tree)'),\n",
        "                        'AUR-ROC curve Validate':evaluate_model(model_dt,X_test,y_test,'Validating (Tree)')})"
      ]
    },
    {
      "cell_type": "markdown",
      "metadata": {
        "id": "yWfOaRSoNR68"
      },
      "source": [
        "# XGBoost"
      ]
    },
    {
      "cell_type": "code",
      "execution_count": 110,
      "metadata": {
        "id": "6MpvmqL4ewkR"
      },
      "outputs": [],
      "source": [
        "model_xgb = Pipeline([\n",
        "    ('preprocessor', preprocessor),\n",
        "     (\"clf\", XGBClassifier(\n",
        "         n_estimators=400,\n",
        "         max_depth=4,\n",
        "         learning_rate=0.05,\n",
        "         subsample=0.9,\n",
        "         colsample_bytree=0.8,\n",
        "         reg_lambda=2.0,\n",
        "         eval_metric='auc',\n",
        "         tree_method='hist',\n",
        "         random_state=42,\n",
        "         n_jobs=-1\n",
        "         ))\n",
        "     ])"
      ]
    },
    {
      "cell_type": "code",
      "execution_count": null,
      "metadata": {
        "colab": {
          "base_uri": "https://localhost:8080/",
          "height": 286
        },
        "id": "TenbVnYiMJ_3",
        "outputId": "940090a7-3c0b-4609-f4ea-510ed1d7b96b"
      },
      "outputs": [],
      "source": [
        "model_xgb.fit(X_train,y_train)"
      ]
    },
    {
      "cell_type": "code",
      "execution_count": null,
      "metadata": {
        "colab": {
          "base_uri": "https://localhost:8080/",
          "height": 1000
        },
        "id": "3QYLtKnqMSnr",
        "outputId": "19129661-f05e-4873-831e-d9da1eb4b361"
      },
      "outputs": [],
      "source": [
        "results_compare.append({'Model':\"XGBoost\",\n",
        "                        'Hyperparams':[\n",
        "                            'n_estimators=400',\n",
        "                            'max_depth=4',\n",
        "                            'learning_rate=0.05',\n",
        "                            'subsample=0.9',\n",
        "                            'colsample_bytree=0.8',\n",
        "                            'reg_lambda=2.0',\n",
        "                            'eval_metric=auc',\n",
        "                            'tree_method=hist',\n",
        "                            'random_state=42',\n",
        "                            'n_jobs=-1'],\n",
        "                        'AUR-ROC curve Train': evaluate_model(model_xgb,X_train,y_train,'Training (XGBoost)'),\n",
        "                        'AUR-ROC curve Validate':evaluate_model(model_xgb,X_test,y_test,'Validating (XGBoost)')})"
      ]
    },
    {
      "cell_type": "markdown",
      "metadata": {
        "id": "Wn6P0_nrOk8B"
      },
      "source": [
        "# Порівняння моделей"
      ]
    },
    {
      "cell_type": "code",
      "execution_count": null,
      "metadata": {
        "colab": {
          "base_uri": "https://localhost:8080/",
          "height": 173
        },
        "id": "niUP2hPYPKcD",
        "outputId": "c84f2a21-c6f8-47b1-f47d-803879299a72"
      },
      "outputs": [],
      "source": [
        "res_df = pd.DataFrame(results_compare)\n",
        "#res_df.set_index('Model',inplace=True)\n",
        "res_df"
      ]
    },
    {
      "cell_type": "markdown",
      "metadata": {
        "id": "T5qghW5rU8Bs"
      },
      "source": [
        "1. Проста і швидка; можна додати регуляризацію (`C`, L1/L2) і ще попрацювати з гіперпараметрами.\n",
        "2. Модель може дуже швидко перенавчитися. Тому на нових даних спрацьовує найгріше\n",
        "3. Теж легко перенавчається, але легше контролювати; можна експериментувати з ансамблями.                  \n",
        "4. Найкраща модель; можна ще тюнити гіперпараметри (RandomSearch, Hyperopt).   \n"
      ]
    },
    {
      "cell_type": "markdown",
      "metadata": {
        "id": "4u-Sd5jpVwcK"
      },
      "source": [
        "# XGBoost Tunning"
      ]
    },
    {
      "cell_type": "markdown",
      "metadata": {
        "id": "aDrQGIUYiNep"
      },
      "source": [
        "## RandomizedSearchCV"
      ]
    },
    {
      "cell_type": "code",
      "execution_count": 148,
      "metadata": {
        "id": "kwdeuzpxcCY-"
      },
      "outputs": [],
      "source": [
        "model_xgb_rs = Pipeline([\n",
        "    ('preprocessor', preprocessor),\n",
        "    ('xgb_rs', XGBClassifier(\n",
        "        eval_metric='auc',\n",
        "        random_state=42,\n",
        "        n_jobs=-1\n",
        "    ))\n",
        "])"
      ]
    },
    {
      "cell_type": "code",
      "execution_count": 153,
      "metadata": {
        "id": "mGGSRdtufsbS"
      },
      "outputs": [],
      "source": [
        "param_xgb_rs = {\n",
        "    \"xgb_rs__n_estimators\": stats.randint(50, 1000),\n",
        "    \"xgb_rs__max_depth\": stats.randint(3, 10),\n",
        "    \"xgb_rs__learning_rate\": stats.loguniform(1e-3, 1e-1),\n",
        "    \"xgb_rs__subsample\": stats.uniform(0.5, 0.5),\n",
        "    \"xgb_rs__colsample_bytree\": stats.uniform(0.5, 0.5),\n",
        "    \"xgb_rs__gamma\": stats.loguniform(1e-3, 1.0)\n",
        "}"
      ]
    },
    {
      "cell_type": "code",
      "execution_count": null,
      "metadata": {
        "colab": {
          "base_uri": "https://localhost:8080/",
          "height": 335
        },
        "id": "h3VtCok6gE7v",
        "outputId": "fb473940-aaeb-4b7a-b655-8794cf60e72f"
      },
      "outputs": [],
      "source": [
        "search = RandomizedSearchCV(\n",
        "    model_xgb_rs,\n",
        "    param_distributions=param_xgb_rs,\n",
        "    n_iter=30,\n",
        "    scoring=\"roc_auc\",\n",
        "    cv=5,\n",
        "    verbose=1,\n",
        "    random_state=42,\n",
        "    n_jobs=-1\n",
        ")\n",
        "\n",
        "search.fit(X_train, y_train)"
      ]
    },
    {
      "cell_type": "code",
      "execution_count": null,
      "metadata": {
        "colab": {
          "base_uri": "https://localhost:8080/"
        },
        "id": "zNJkDG7Khq6a",
        "outputId": "172db8f5-3edb-41e9-fa0d-01a502c223ff"
      },
      "outputs": [],
      "source": [
        "best_xgb_rs_param = search.best_params_\n",
        "best_xgb_rs_param"
      ]
    },
    {
      "cell_type": "code",
      "execution_count": 156,
      "metadata": {
        "id": "andSMRMrh-Kr"
      },
      "outputs": [],
      "source": [
        "best_xgb_rs_model = search.best_estimator_"
      ]
    },
    {
      "cell_type": "code",
      "execution_count": null,
      "metadata": {
        "colab": {
          "base_uri": "https://localhost:8080/"
        },
        "id": "fDTviW6maE-9",
        "outputId": "42a91732-9c9c-4511-b8e9-947e5e6b6f8d"
      },
      "outputs": [],
      "source": [
        "search.best_score_"
      ]
    },
    {
      "cell_type": "code",
      "execution_count": null,
      "metadata": {
        "colab": {
          "base_uri": "https://localhost:8080/",
          "height": 521
        },
        "id": "adqrJwoniEZo",
        "outputId": "fc23ad0f-e3c4-47ac-c545-8bf52b5b1824"
      },
      "outputs": [],
      "source": [
        "res_df.loc[len(res_df)] = [\"XGBoost RandomizedSearchCV\", [\n",
        "    'xgb_rs__colsample_bytree:0.940',\n",
        "    'xgb_rs__gamma:0.075',\n",
        "    'xgb_rs__learning_rate:0.004',\n",
        "    'xgb_rs__max_depth: 7',\n",
        "    'xgb_rs__n_estimators: 695',\n",
        "    'xgb_rs__subsample:0.728'],\n",
        "                          0.7962,\n",
        "                          evaluate_model(best_xgb_rs_model,X_val,y_val,'Validating (XGBoost RandomizedSearchCV)')]"
      ]
    },
    {
      "cell_type": "markdown",
      "metadata": {
        "id": "VaUNz_HAiS16"
      },
      "source": [
        "## Hyperopt"
      ]
    },
    {
      "cell_type": "code",
      "execution_count": 172,
      "metadata": {
        "id": "EBPVZIm1bvvS"
      },
      "outputs": [],
      "source": [
        "def objective(params):\n",
        "    clf = Pipeline(steps=[\n",
        "        ('preprocessor', preprocessor),\n",
        "        ('model', XGBClassifier(\n",
        "                    n_estimators=int(params['n_estimators']),\n",
        "                    learning_rate=params['learning_rate'],\n",
        "                    max_depth=int(params['max_depth']),\n",
        "                    min_child_weight=params['min_child_weight'],\n",
        "                    subsample=params['subsample'],\n",
        "                    colsample_bytree=params['colsample_bytree'],\n",
        "                    gamma=params['gamma'],\n",
        "                    reg_alpha=params['reg_alpha'],\n",
        "                    reg_lambda=params['reg_lambda'],\n",
        "                    eval_metric='auc'))\n",
        "        ])\n",
        "\n",
        "    clf.fit(X_train,y_train)\n",
        "\n",
        "    pred_prob = clf.predict_proba(X_val)\n",
        "    auroc = roc_auc_score(y_val, pred_prob[:,1])\n",
        "\n",
        "    return {'loss': -auroc, 'status': STATUS_OK}"
      ]
    },
    {
      "cell_type": "code",
      "execution_count": 173,
      "metadata": {
        "id": "vwGNcNCEj8U0"
      },
      "outputs": [],
      "source": [
        "space = {\n",
        "    'n_estimators': hp.quniform('n_estimators', 50, 500, 25),\n",
        "    'learning_rate': hp.uniform('learning_rate', 0.01, 0.3),\n",
        "    'max_depth': hp.quniform('max_depth', 3, 15, 1),\n",
        "    'min_child_weight': hp.quniform('min_child_weight', 1, 10, 1),\n",
        "    'subsample': hp.uniform('subsample', 0.5, 1.0),\n",
        "    'colsample_bytree': hp.uniform('colsample_bytree', 0.5, 1.0),\n",
        "    'gamma': hp.uniform('gamma', 0, 0.5),\n",
        "    'reg_alpha': hp.uniform('reg_alpha', 0, 1),\n",
        "    'reg_lambda': hp.uniform('reg_lambda', 0, 1)\n",
        "}"
      ]
    },
    {
      "cell_type": "code",
      "execution_count": null,
      "metadata": {
        "colab": {
          "base_uri": "https://localhost:8080/"
        },
        "id": "30EoSbDCj_bO",
        "outputId": "6f868679-55e7-444c-c84f-0cf79782ad63"
      },
      "outputs": [],
      "source": [
        "trials = Trials()\n",
        "best_hopt = fmin(fn=objective, space=space, algo=tpe.suggest, max_evals=50, trials=trials)\n",
        "\n",
        "best_hopt['n_estimators'] = int(best_hopt['n_estimators'])\n",
        "best_hopt['max_depth'] = int(best_hopt['max_depth'])\n",
        "best_hopt['min_child_weight'] = int(best_hopt['min_child_weight'])"
      ]
    },
    {
      "cell_type": "code",
      "execution_count": null,
      "metadata": {
        "colab": {
          "base_uri": "https://localhost:8080/",
          "height": 486
        },
        "id": "GSVBd2yikTdQ",
        "outputId": "131c58a4-99d9-48c3-949e-589c904d9205"
      },
      "outputs": [],
      "source": [
        "final_xgb_model = Pipeline(steps=[\n",
        "    ('preprocessor', preprocessor),\n",
        "    ('model',XGBClassifier(\n",
        "        n_estimators=int(best_hopt['n_estimators']),\n",
        "        learning_rate=float(best_hopt['learning_rate']),\n",
        "        max_depth=int(best_hopt['max_depth']),\n",
        "        min_child_weight=float(best_hopt['min_child_weight']),\n",
        "        subsample=float(best_hopt['subsample']),\n",
        "        colsample_bytree=float(best_hopt['colsample_bytree']),\n",
        "        gamma=float(best_hopt['gamma']),\n",
        "        reg_alpha=float(best_hopt['reg_alpha']),\n",
        "        reg_lambda=float(best_hopt['reg_lambda']),\n",
        "        use_label_encoder=False,\n",
        "        eval_metric='auc',\n",
        "        random_state=42,\n",
        "        n_jobs=-1\n",
        "    ))\n",
        "])\n",
        "final_xgb_model.fit(X_train, y_train)"
      ]
    },
    {
      "cell_type": "code",
      "execution_count": null,
      "metadata": {
        "colab": {
          "base_uri": "https://localhost:8080/"
        },
        "id": "apWZkC4She66",
        "outputId": "7dcb60b0-38c5-46bd-935d-f9c78bfd8d5f"
      },
      "outputs": [],
      "source": [
        "best_hopt"
      ]
    },
    {
      "cell_type": "code",
      "execution_count": null,
      "metadata": {
        "colab": {
          "base_uri": "https://localhost:8080/",
          "height": 1000
        },
        "id": "kip9HmM5ke-w",
        "outputId": "376e7610-2ea5-4c22-d8d4-5590308cbb51"
      },
      "outputs": [],
      "source": [
        "res_df.loc[len(res_df)] = [\"XGBoost Hyperopt\", [\n",
        "    'colsample_bytree:0.818',\n",
        "    'gamma:0.311',\n",
        "    'learning_rate:0.142',\n",
        "    'max_depth: 3',\n",
        "    'min_child_weight: 8',\n",
        "    'n_estimators: 175',\n",
        "    'reg_alpha:0.913',\n",
        "    'reg_lambda:0.738',\n",
        "    'subsample:0.610'],\n",
        "                          evaluate_model(final_xgb_model,X_train,y_train,'Training (XGBoost Hyperopt)'),\n",
        "                          evaluate_model(final_xgb_model,X_val,y_val,'Validating (XGBoost Hyperopt)')]"
      ]
    },
    {
      "cell_type": "markdown",
      "metadata": {
        "id": "KI47XjsH8Ppv"
      },
      "source": [
        "# Важливість ознак"
      ]
    },
    {
      "cell_type": "code",
      "execution_count": null,
      "metadata": {
        "colab": {
          "base_uri": "https://localhost:8080/",
          "height": 235
        },
        "id": "eMEHQmQ6iXFf",
        "outputId": "13cec438-872c-4858-fee3-4279405d2159"
      },
      "outputs": [],
      "source": [
        "res_df"
      ]
    },
    {
      "cell_type": "markdown",
      "metadata": {
        "id": "yoC_hqVW_sx8"
      },
      "source": [
        "Найкраще тут себе показала модель XGBoost with RandomizedSearchCV, тому на цій моделі запускаю преедбачення на тестувих даних"
      ]
    },
    {
      "cell_type": "code",
      "execution_count": null,
      "metadata": {
        "colab": {
          "base_uri": "https://localhost:8080/",
          "height": 538
        },
        "id": "KI77OLt__UV3",
        "outputId": "b8b6edee-8379-4242-df33-df64928e965b"
      },
      "outputs": [],
      "source": [
        "evaluate_model(best_xgb_rs_model,X_test,y_test,'Testing (XGBoost RandomizedSearchCV)')"
      ]
    },
    {
      "cell_type": "code",
      "execution_count": null,
      "metadata": {
        "colab": {
          "base_uri": "https://localhost:8080/",
          "height": 359
        },
        "id": "gFzzPP8S8TZ2",
        "outputId": "64940695-7189-4d1e-9857-44996dfa71cb"
      },
      "outputs": [],
      "source": [
        "xgb_model = best_xgb_rs_model.named_steps[\"xgb_rs\"]\n",
        "feature_names = best_xgb_rs_model.named_steps[\"preprocessor\"].get_feature_names_out()\n",
        "importances = xgb_model.feature_importances_\n",
        "\n",
        "feat_imp = pd.DataFrame({\n",
        "    \"feature\": feature_names,\n",
        "    \"importance\": importances\n",
        "}).sort_values(by=\"importance\", ascending=False)\n",
        "\n",
        "feat_imp.head(10)"
      ]
    },
    {
      "cell_type": "markdown",
      "metadata": {
        "id": "-P4DbhHlAhkl"
      },
      "source": [
        "- `nr.employed`  – якщо більше людей працевлаштовані(більш впевнені в майбутньому), то цілком ймовірно що менше погоджуються на депозит\n",
        "\n",
        "- `previous_contact` – якщо з клієнтом вже кілька разів спілкувались, ймовірність відкриття депозиту зростає\n",
        "\n",
        "- `poutcome_success` – якщо раніше клієнт вже відкривав депозити, він з більшою ймовірністю погодиться знову.\n",
        "\n",
        "і так впринципі всі ознаки є логічні, лише питання до ознак місяця (`month_may` і `month_oct`) швидше за все це співпало що саме активність цієі конктреної кампанії була в ці місяці, на інші кампанії не вплине"
      ]
    },
    {
      "cell_type": "markdown",
      "metadata": {
        "id": "1b8o06D6CPL-"
      },
      "source": [
        "# SHAP"
      ]
    },
    {
      "cell_type": "code",
      "execution_count": null,
      "metadata": {
        "colab": {
          "base_uri": "https://localhost:8080/",
          "height": 86,
          "referenced_widgets": [
            "21c4aedc26ec4382b55e0727c26c6f99",
            "4252bf72b7b6405f9ebeb096f309efb8",
            "c4b8daedc3bb4256baf1c7fdf1f2afcc",
            "ffeb447cf86f4f2bb75aadda8c3cf767",
            "0b62c0aec4924654934cf8e202f6855a",
            "c3344131714742fcbd86d2156cae044d",
            "5b3ab0d128cb4436b978ca045c075237",
            "6d2e02a419e742279d20d08e16aade76",
            "0804b1709c8a43e3abee9f00e672e1b3",
            "112f057794464cfcae5bf17d24bd234a",
            "65e13a92d65041b09353ed8898cdf0e9"
          ]
        },
        "id": "BbbbBydwCQjn",
        "outputId": "bf5522fe-d678-4cd6-9e1c-6c01c0122dcd"
      },
      "outputs": [],
      "source": [
        "explainer = shap.KernelExplainer(\n",
        "    lambda x: best_xgb_rs_model.predict(pd.DataFrame(x, columns=X.columns)),\n",
        "    X_train[:500])\n",
        "shap_values = explainer.shap_values(pd.DataFrame(X_test[:30], columns=X.columns))"
      ]
    },
    {
      "cell_type": "code",
      "execution_count": null,
      "metadata": {
        "colab": {
          "base_uri": "https://localhost:8080/",
          "height": 957
        },
        "id": "TmBMf8XbGJOV",
        "outputId": "8f35a8e4-3a17-4040-e5c9-616bba3ba514"
      },
      "outputs": [],
      "source": [
        "shap.summary_plot(shap_values, X_test[:30])"
      ]
    },
    {
      "cell_type": "code",
      "execution_count": null,
      "metadata": {
        "colab": {
          "base_uri": "https://localhost:8080/",
          "height": 957
        },
        "id": "g8c5k-QGGn5X",
        "outputId": "47da6d7a-c433-407f-d5f6-2855d76f212e"
      },
      "outputs": [],
      "source": [
        "shap.summary_plot(shap_values, X_test[:30],plot_type='bar')"
      ]
    },
    {
      "cell_type": "code",
      "execution_count": null,
      "metadata": {
        "colab": {
          "base_uri": "https://localhost:8080/",
          "height": 193
        },
        "id": "K1tpm2hsGu4h",
        "outputId": "d0328553-c289-4075-95ed-fa78c5db022d"
      },
      "outputs": [],
      "source": [
        "i = 40\n",
        "\n",
        "shap.initjs()\n",
        "shap.force_plot(\n",
        "    explainer.expected_value,\n",
        "    shap_values[1],\n",
        "    X_test.iloc[i]\n",
        ")"
      ]
    },
    {
      "cell_type": "markdown",
      "metadata": {
        "id": "ZU7g2roNMblK"
      },
      "source": [
        "З графіків вище, можна зрозуміти що найбільший влив мають економічні показники і чим економіка стабільніша, тим менше потреба в депозитах\n",
        "\n",
        "Тако важливу роль відіграють чинники співпраці з клієнтами - вони дають більший шанс на позитивний вихід кампанії"
      ]
    },
    {
      "cell_type": "markdown",
      "metadata": {
        "id": "LfyRJaBeKp4D"
      },
      "source": [
        "# Аналіз помилок"
      ]
    },
    {
      "cell_type": "code",
      "execution_count": 234,
      "metadata": {
        "id": "l_V9STKzNVhQ"
      },
      "outputs": [],
      "source": [
        "y_proba = best_xgb_rs_model.predict_proba(X_test)[:, 1]"
      ]
    },
    {
      "cell_type": "code",
      "execution_count": 235,
      "metadata": {
        "id": "nYF9WAK_N1bO"
      },
      "outputs": [],
      "source": [
        "y_pred = best_xgb_rs_model.predict(X_test)"
      ]
    },
    {
      "cell_type": "code",
      "execution_count": 236,
      "metadata": {
        "id": "DG2TypeDOtkN"
      },
      "outputs": [],
      "source": [
        "err_df = X_test.copy()\n",
        "err_df['y_true'] = y_test.copy()\n",
        "err_df['proba'] = y_proba\n",
        "err_df['y_pred'] = y_pred"
      ]
    },
    {
      "cell_type": "code",
      "execution_count": null,
      "metadata": {
        "colab": {
          "base_uri": "https://localhost:8080/",
          "height": 542
        },
        "id": "V1FDj6lVPNoR",
        "outputId": "3977404e-abed-4b76-a54f-4770b87843e7"
      },
      "outputs": [],
      "source": [
        "mat =confusion_matrix(y_test, y_pred,normalize='true')\n",
        "plt.figure(figsize=(10,6))\n",
        "sns.heatmap(mat.T, square=True, annot=True,  cbar=True)\n",
        "plt.xlabel('true label')\n",
        "plt.ylabel('predicted label');"
      ]
    },
    {
      "cell_type": "markdown",
      "metadata": {
        "id": "xTNP0LvvR_SX"
      },
      "source": [
        "Через дуже не збалансовані дані, модель гарно справляється з класифікуванням хто не відкриє депозит, але при тому реально тих хто відкриє часто класифікує як \"не потенціний клієнт\"\n",
        "\n",
        "тому можна спробувати зараз встановити threshold не 0.5, а інший - що можливо покращить якість передбачення"
      ]
    },
    {
      "cell_type": "code",
      "execution_count": 246,
      "metadata": {
        "id": "40JNA3t6QyUY"
      },
      "outputs": [],
      "source": [
        "fpr, tpr, thresholds = roc_curve(y_test, y_proba)\n",
        "roc_auc = roc_auc_score(y_test, y_proba)"
      ]
    },
    {
      "cell_type": "code",
      "execution_count": null,
      "metadata": {
        "colab": {
          "base_uri": "https://localhost:8080/"
        },
        "id": "qUuuHCQ0SfZl",
        "outputId": "9e5d0210-708b-4e24-858b-5907041ed95b"
      },
      "outputs": [],
      "source": [
        "optimal_idx = (tpr - fpr).argmax()\n",
        "optimal_threshold = thresholds[optimal_idx]\n",
        "optimal_threshold"
      ]
    },
    {
      "cell_type": "code",
      "execution_count": 249,
      "metadata": {
        "id": "RiKAg-hESw8M"
      },
      "outputs": [],
      "source": [
        "y_pred_opt = (y_proba >= optimal_threshold).astype(int)"
      ]
    },
    {
      "cell_type": "code",
      "execution_count": null,
      "metadata": {
        "colab": {
          "base_uri": "https://localhost:8080/",
          "height": 542
        },
        "id": "ITxarmQKSvfi",
        "outputId": "40d82049-7200-47a3-c7d1-25648b880e50"
      },
      "outputs": [],
      "source": [
        "mat =confusion_matrix(y_test, y_pred_opt,normalize='true')\n",
        "plt.figure(figsize=(10,6))\n",
        "sns.heatmap(mat.T, square=True, annot=True,  cbar=True,cmap=\"magma\")\n",
        "plt.xlabel('true label')\n",
        "plt.ylabel('predicted label');"
      ]
    },
    {
      "cell_type": "markdown",
      "metadata": {
        "id": "7pWxixhETRzI"
      },
      "source": [
        "Тепер ситуація краща, бо розпінаємо 70% клієнтів хто відкрив депозит. Хоч і впав трошки відсоток тих хто не відкриє, але все ще хороший результат - 85%\n",
        "\n",
        "\n",
        "Щоб покращити модель, одним з рішень може бути семплінг - щоб власне вирівняти той дисбаланс класів\n",
        "Також би спробувала ще ансамблі моделей, LightGBM\n",
        "І ще попроацювати над препроцесінгом даних можливо"
      ]
    }
  ],
  "metadata": {
    "colab": {
      "collapsed_sections": [
        "11DEpQ2rGkTf",
        "MSFhk2BUHBSK",
        "RgafuD0nHLOK",
        "M8ctu924cCBd",
        "cpOJ6cGybFKt",
        "BPAi8sDZI7Vw",
        "EjUCivvYIy2y",
        "UiB7vtabI3OM"
      ],
      "provenance": [],
      "toc_visible": true
    },
    "kernelspec": {
      "display_name": "Python 3",
      "name": "python3"
    },
    "language_info": {
      "name": "python"
    },
    "widgets": {
      "application/vnd.jupyter.widget-state+json": {
        "0804b1709c8a43e3abee9f00e672e1b3": {
          "model_module": "@jupyter-widgets/controls",
          "model_module_version": "1.5.0",
          "model_name": "ProgressStyleModel",
          "state": {
            "_model_module": "@jupyter-widgets/controls",
            "_model_module_version": "1.5.0",
            "_model_name": "ProgressStyleModel",
            "_view_count": null,
            "_view_module": "@jupyter-widgets/base",
            "_view_module_version": "1.2.0",
            "_view_name": "StyleView",
            "bar_color": null,
            "description_width": ""
          }
        },
        "0b62c0aec4924654934cf8e202f6855a": {
          "model_module": "@jupyter-widgets/base",
          "model_module_version": "1.2.0",
          "model_name": "LayoutModel",
          "state": {
            "_model_module": "@jupyter-widgets/base",
            "_model_module_version": "1.2.0",
            "_model_name": "LayoutModel",
            "_view_count": null,
            "_view_module": "@jupyter-widgets/base",
            "_view_module_version": "1.2.0",
            "_view_name": "LayoutView",
            "align_content": null,
            "align_items": null,
            "align_self": null,
            "border": null,
            "bottom": null,
            "display": null,
            "flex": null,
            "flex_flow": null,
            "grid_area": null,
            "grid_auto_columns": null,
            "grid_auto_flow": null,
            "grid_auto_rows": null,
            "grid_column": null,
            "grid_gap": null,
            "grid_row": null,
            "grid_template_areas": null,
            "grid_template_columns": null,
            "grid_template_rows": null,
            "height": null,
            "justify_content": null,
            "justify_items": null,
            "left": null,
            "margin": null,
            "max_height": null,
            "max_width": null,
            "min_height": null,
            "min_width": null,
            "object_fit": null,
            "object_position": null,
            "order": null,
            "overflow": null,
            "overflow_x": null,
            "overflow_y": null,
            "padding": null,
            "right": null,
            "top": null,
            "visibility": null,
            "width": null
          }
        },
        "112f057794464cfcae5bf17d24bd234a": {
          "model_module": "@jupyter-widgets/base",
          "model_module_version": "1.2.0",
          "model_name": "LayoutModel",
          "state": {
            "_model_module": "@jupyter-widgets/base",
            "_model_module_version": "1.2.0",
            "_model_name": "LayoutModel",
            "_view_count": null,
            "_view_module": "@jupyter-widgets/base",
            "_view_module_version": "1.2.0",
            "_view_name": "LayoutView",
            "align_content": null,
            "align_items": null,
            "align_self": null,
            "border": null,
            "bottom": null,
            "display": null,
            "flex": null,
            "flex_flow": null,
            "grid_area": null,
            "grid_auto_columns": null,
            "grid_auto_flow": null,
            "grid_auto_rows": null,
            "grid_column": null,
            "grid_gap": null,
            "grid_row": null,
            "grid_template_areas": null,
            "grid_template_columns": null,
            "grid_template_rows": null,
            "height": null,
            "justify_content": null,
            "justify_items": null,
            "left": null,
            "margin": null,
            "max_height": null,
            "max_width": null,
            "min_height": null,
            "min_width": null,
            "object_fit": null,
            "object_position": null,
            "order": null,
            "overflow": null,
            "overflow_x": null,
            "overflow_y": null,
            "padding": null,
            "right": null,
            "top": null,
            "visibility": null,
            "width": null
          }
        },
        "21c4aedc26ec4382b55e0727c26c6f99": {
          "model_module": "@jupyter-widgets/controls",
          "model_module_version": "1.5.0",
          "model_name": "HBoxModel",
          "state": {
            "_dom_classes": [],
            "_model_module": "@jupyter-widgets/controls",
            "_model_module_version": "1.5.0",
            "_model_name": "HBoxModel",
            "_view_count": null,
            "_view_module": "@jupyter-widgets/controls",
            "_view_module_version": "1.5.0",
            "_view_name": "HBoxView",
            "box_style": "",
            "children": [
              "IPY_MODEL_4252bf72b7b6405f9ebeb096f309efb8",
              "IPY_MODEL_c4b8daedc3bb4256baf1c7fdf1f2afcc",
              "IPY_MODEL_ffeb447cf86f4f2bb75aadda8c3cf767"
            ],
            "layout": "IPY_MODEL_0b62c0aec4924654934cf8e202f6855a"
          }
        },
        "4252bf72b7b6405f9ebeb096f309efb8": {
          "model_module": "@jupyter-widgets/controls",
          "model_module_version": "1.5.0",
          "model_name": "HTMLModel",
          "state": {
            "_dom_classes": [],
            "_model_module": "@jupyter-widgets/controls",
            "_model_module_version": "1.5.0",
            "_model_name": "HTMLModel",
            "_view_count": null,
            "_view_module": "@jupyter-widgets/controls",
            "_view_module_version": "1.5.0",
            "_view_name": "HTMLView",
            "description": "",
            "description_tooltip": null,
            "layout": "IPY_MODEL_c3344131714742fcbd86d2156cae044d",
            "placeholder": "​",
            "style": "IPY_MODEL_5b3ab0d128cb4436b978ca045c075237",
            "value": "100%"
          }
        },
        "5b3ab0d128cb4436b978ca045c075237": {
          "model_module": "@jupyter-widgets/controls",
          "model_module_version": "1.5.0",
          "model_name": "DescriptionStyleModel",
          "state": {
            "_model_module": "@jupyter-widgets/controls",
            "_model_module_version": "1.5.0",
            "_model_name": "DescriptionStyleModel",
            "_view_count": null,
            "_view_module": "@jupyter-widgets/base",
            "_view_module_version": "1.2.0",
            "_view_name": "StyleView",
            "description_width": ""
          }
        },
        "65e13a92d65041b09353ed8898cdf0e9": {
          "model_module": "@jupyter-widgets/controls",
          "model_module_version": "1.5.0",
          "model_name": "DescriptionStyleModel",
          "state": {
            "_model_module": "@jupyter-widgets/controls",
            "_model_module_version": "1.5.0",
            "_model_name": "DescriptionStyleModel",
            "_view_count": null,
            "_view_module": "@jupyter-widgets/base",
            "_view_module_version": "1.2.0",
            "_view_name": "StyleView",
            "description_width": ""
          }
        },
        "6d2e02a419e742279d20d08e16aade76": {
          "model_module": "@jupyter-widgets/base",
          "model_module_version": "1.2.0",
          "model_name": "LayoutModel",
          "state": {
            "_model_module": "@jupyter-widgets/base",
            "_model_module_version": "1.2.0",
            "_model_name": "LayoutModel",
            "_view_count": null,
            "_view_module": "@jupyter-widgets/base",
            "_view_module_version": "1.2.0",
            "_view_name": "LayoutView",
            "align_content": null,
            "align_items": null,
            "align_self": null,
            "border": null,
            "bottom": null,
            "display": null,
            "flex": null,
            "flex_flow": null,
            "grid_area": null,
            "grid_auto_columns": null,
            "grid_auto_flow": null,
            "grid_auto_rows": null,
            "grid_column": null,
            "grid_gap": null,
            "grid_row": null,
            "grid_template_areas": null,
            "grid_template_columns": null,
            "grid_template_rows": null,
            "height": null,
            "justify_content": null,
            "justify_items": null,
            "left": null,
            "margin": null,
            "max_height": null,
            "max_width": null,
            "min_height": null,
            "min_width": null,
            "object_fit": null,
            "object_position": null,
            "order": null,
            "overflow": null,
            "overflow_x": null,
            "overflow_y": null,
            "padding": null,
            "right": null,
            "top": null,
            "visibility": null,
            "width": null
          }
        },
        "c3344131714742fcbd86d2156cae044d": {
          "model_module": "@jupyter-widgets/base",
          "model_module_version": "1.2.0",
          "model_name": "LayoutModel",
          "state": {
            "_model_module": "@jupyter-widgets/base",
            "_model_module_version": "1.2.0",
            "_model_name": "LayoutModel",
            "_view_count": null,
            "_view_module": "@jupyter-widgets/base",
            "_view_module_version": "1.2.0",
            "_view_name": "LayoutView",
            "align_content": null,
            "align_items": null,
            "align_self": null,
            "border": null,
            "bottom": null,
            "display": null,
            "flex": null,
            "flex_flow": null,
            "grid_area": null,
            "grid_auto_columns": null,
            "grid_auto_flow": null,
            "grid_auto_rows": null,
            "grid_column": null,
            "grid_gap": null,
            "grid_row": null,
            "grid_template_areas": null,
            "grid_template_columns": null,
            "grid_template_rows": null,
            "height": null,
            "justify_content": null,
            "justify_items": null,
            "left": null,
            "margin": null,
            "max_height": null,
            "max_width": null,
            "min_height": null,
            "min_width": null,
            "object_fit": null,
            "object_position": null,
            "order": null,
            "overflow": null,
            "overflow_x": null,
            "overflow_y": null,
            "padding": null,
            "right": null,
            "top": null,
            "visibility": null,
            "width": null
          }
        },
        "c4b8daedc3bb4256baf1c7fdf1f2afcc": {
          "model_module": "@jupyter-widgets/controls",
          "model_module_version": "1.5.0",
          "model_name": "FloatProgressModel",
          "state": {
            "_dom_classes": [],
            "_model_module": "@jupyter-widgets/controls",
            "_model_module_version": "1.5.0",
            "_model_name": "FloatProgressModel",
            "_view_count": null,
            "_view_module": "@jupyter-widgets/controls",
            "_view_module_version": "1.5.0",
            "_view_name": "ProgressView",
            "bar_style": "success",
            "description": "",
            "description_tooltip": null,
            "layout": "IPY_MODEL_6d2e02a419e742279d20d08e16aade76",
            "max": 30,
            "min": 0,
            "orientation": "horizontal",
            "style": "IPY_MODEL_0804b1709c8a43e3abee9f00e672e1b3",
            "value": 30
          }
        },
        "ffeb447cf86f4f2bb75aadda8c3cf767": {
          "model_module": "@jupyter-widgets/controls",
          "model_module_version": "1.5.0",
          "model_name": "HTMLModel",
          "state": {
            "_dom_classes": [],
            "_model_module": "@jupyter-widgets/controls",
            "_model_module_version": "1.5.0",
            "_model_name": "HTMLModel",
            "_view_count": null,
            "_view_module": "@jupyter-widgets/controls",
            "_view_module_version": "1.5.0",
            "_view_name": "HTMLView",
            "description": "",
            "description_tooltip": null,
            "layout": "IPY_MODEL_112f057794464cfcae5bf17d24bd234a",
            "placeholder": "​",
            "style": "IPY_MODEL_65e13a92d65041b09353ed8898cdf0e9",
            "value": " 30/30 [13:20&lt;00:00, 26.64s/it]"
          }
        }
      }
    }
  },
  "nbformat": 4,
  "nbformat_minor": 0
}
